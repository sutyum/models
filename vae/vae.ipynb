{
 "cells": [
  {
   "cell_type": "markdown",
   "id": "321ae627-6976-4703-ae62-e43a00bcee69",
   "metadata": {},
   "source": [
    "# Variational Autoencoder\n",
    "\n",
    "Go from input dim to a small tensor of gaussians parameterized by mu and sigma and then build out to the larger output dim (equal to input dim).\n",
    "\n",
    "Later, sample from the gaussian distribution to interpolate within the distribution learn by the VAE.\n",
    "\n",
    "---\n",
    "\n",
    "Example: Train on emojis and then sample novel emojis."
   ]
  },
  {
   "cell_type": "markdown",
   "id": "8ef0ecfe-636d-4c4d-8b2c-110cfaaf0ac2",
   "metadata": {},
   "source": [
    "# MNIST"
   ]
  },
  {
   "cell_type": "code",
   "execution_count": 16,
   "id": "8573853b-670d-408a-957d-cc9b4b16a05e",
   "metadata": {},
   "outputs": [],
   "source": [
    "import os\n",
    "os.environ[\"JAX_PLATFORMS\"] = \"cpu\""
   ]
  },
  {
   "cell_type": "code",
   "execution_count": 17,
   "id": "61e7f9b1-c5a1-4bfc-a62a-a48c89869aac",
   "metadata": {},
   "outputs": [
    {
     "name": "stdout",
     "output_type": "stream",
     "text": [
      "JAX devices: [CpuDevice(id=0)]\n",
      "Default device: cpu\n"
     ]
    }
   ],
   "source": [
    "# fmnist_data_check.py\n",
    "import jax\n",
    "import jax.numpy as jnp\n",
    "import numpy as np\n",
    "from datasets import load_dataset\n",
    "from einops import rearrange\n",
    "\n",
    "print(\"JAX devices:\", jax.devices())\n",
    "print(\"Default device:\", jax.default_backend())"
   ]
  },
  {
   "cell_type": "code",
   "execution_count": 18,
   "id": "e3c1213e-996f-4fb9-827a-6e0e1c041fde",
   "metadata": {},
   "outputs": [],
   "source": [
    "def to_float01(example):\n",
    "    # convert PIL image -> float32 [0,1], add channel dim (1, 28, 28)\n",
    "    arr = np.array(example[\"image\"], dtype=np.float32) / 255.0\n",
    "    arr = rearrange(arr, \"h w -> 1 h w\")\n",
    "    example[\"x\"] = arr\n",
    "    return example"
   ]
  },
  {
   "cell_type": "code",
   "execution_count": 19,
   "id": "755aaea7-cec9-41ca-bbe1-565a41ef64d2",
   "metadata": {
    "scrolled": true
   },
   "outputs": [],
   "source": [
    "# 1) load HF dataset\n",
    "ds = load_dataset(\"fashion_mnist\")"
   ]
  },
  {
   "cell_type": "code",
   "execution_count": 20,
   "id": "ce704ef6",
   "metadata": {
    "scrolled": true
   },
   "outputs": [],
   "source": [
    "# 2) map -> float32, add channel dim\n",
    "ds = ds.map(to_float01, remove_columns=[\"image\"])"
   ]
  },
  {
   "cell_type": "code",
   "execution_count": 21,
   "id": "5f823679-eeaf-428c-8872-4140fc921a3a",
   "metadata": {},
   "outputs": [
    {
     "name": "stdout",
     "output_type": "stream",
     "text": [
      "x_train: (60000, 1, 28, 28) float64 0.0 1.0\n",
      "x_test : (10000, 1, 28, 28) float64\n"
     ]
    }
   ],
   "source": [
    "# 3) train/test numpy arrays\n",
    "x_train = np.stack([ex[\"x\"] for ex in ds[\"train\"]], axis=0)  # (60000,1,28,28)\n",
    "y_train = np.array(ds[\"train\"][\"label\"])\n",
    "x_test  = np.stack([ex[\"x\"] for ex in ds[\"test\"]], axis=0)   # (10000,1,28,28)\n",
    "\n",
    "print(\"x_train:\", x_train.shape, x_train.dtype, x_train.min(), x_train.max())\n",
    "print(\"x_test :\", x_test.shape,  x_test.dtype)"
   ]
  },
  {
   "cell_type": "code",
   "execution_count": 22,
   "id": "9708c09d-d610-4170-9584-697ec88f7a06",
   "metadata": {},
   "outputs": [],
   "source": [
    "# 4) simple dataloader that yields JAX device arrays\n",
    "def make_batches(x, batch_size=128, drop_last=True, shuffle=True, seed=0):\n",
    "    rng = np.random.default_rng(seed)\n",
    "    n = x.shape[0]\n",
    "    idx = np.arange(n)\n",
    "    while True:\n",
    "        if shuffle:\n",
    "            rng.shuffle(idx)\n",
    "        for i in range(0, n, batch_size):\n",
    "            j = i + batch_size\n",
    "            if j > n and drop_last:\n",
    "                break\n",
    "            batch = x[idx[i:j]]\n",
    "            # move to device (GPU) once here\n",
    "            yield jax.device_put(jnp.array(batch))"
   ]
  },
  {
   "cell_type": "code",
   "execution_count": 23,
   "id": "4964fed1-e0c4-4e92-9be0-348f6b787f7c",
   "metadata": {},
   "outputs": [
    {
     "name": "stdout",
     "output_type": "stream",
     "text": [
      "one batch: (256, 1, 28, 28) float32 TFRT_CPU_0\n"
     ]
    }
   ],
   "source": [
    "# quick smoke test\n",
    "batches = make_batches(x_train, batch_size=256)\n",
    "xb = next(batches)\n",
    "print(\"one batch:\", xb.shape, xb.dtype, xb.device)"
   ]
  },
  {
   "cell_type": "code",
   "execution_count": 24,
   "id": "947f10a5-3e83-4eaa-aaff-97945a931e11",
   "metadata": {},
   "outputs": [],
   "source": [
    "from dataclasses import dataclass\n",
    "import jax, jax.numpy as jnp\n",
    "import equinox as eqx\n",
    "from jaxtyping import Float, Array, jaxtyped\n",
    "from typing import Tuple\n",
    "from beartype import beartype"
   ]
  },
  {
   "cell_type": "code",
   "execution_count": 25,
   "id": "b7d5875f-e648-494d-8d05-0a1017a9dc32",
   "metadata": {},
   "outputs": [],
   "source": [
    "# KeyArray = jax.Array"
   ]
  },
  {
   "cell_type": "code",
   "execution_count": 26,
   "id": "4c9551c5-135b-43c5-a11f-1f1bea042d6a",
   "metadata": {},
   "outputs": [],
   "source": [
    "def flatten_images(x: Float[Array, \"B H W C\"]) -> Float[Array, \"B (H W C)\"]:\n",
    "    b, h, w, c = x.shape\n",
    "    return x.reshape(b, h*w*c)"
   ]
  },
  {
   "cell_type": "code",
   "execution_count": 27,
   "id": "2581c26c-ec7e-4bbc-a1c7-5206ca5cf7b3",
   "metadata": {},
   "outputs": [],
   "source": [
    "x = jnp.zeros((100, 28, 28, 1))"
   ]
  },
  {
   "cell_type": "code",
   "execution_count": 34,
   "id": "67ec5070-08c1-4524-842c-a0b87084642c",
   "metadata": {},
   "outputs": [
    {
     "data": {
      "text/plain": [
       "(100, 784)"
      ]
     },
     "execution_count": 34,
     "metadata": {},
     "output_type": "execute_result"
    }
   ],
   "source": [
    "y = flatten_images(x)\n",
    "y.shape"
   ]
  },
  {
   "cell_type": "code",
   "execution_count": 29,
   "id": "b3e25f5c-1eaa-42bc-ab0e-0cff1ddee273",
   "metadata": {},
   "outputs": [],
   "source": [
    "def unflatten_images(x: Float[Array, \"B (H W C)\"]) -> Float[Array, \"B H W C\"]:\n",
    "    b, hwc = x.shape\n",
    "    return x.reshape(b, 28, 28, 1)"
   ]
  },
  {
   "cell_type": "code",
   "execution_count": 33,
   "id": "890e98ba-b6ad-4893-8522-6a1a701fbc5a",
   "metadata": {},
   "outputs": [
    {
     "data": {
      "text/plain": [
       "(100, 28, 28, 1)"
      ]
     },
     "execution_count": 33,
     "metadata": {},
     "output_type": "execute_result"
    }
   ],
   "source": [
    "unflatten_images(y).shape"
   ]
  },
  {
   "cell_type": "code",
   "execution_count": 36,
   "id": "2b56aba4-55bc-4639-8061-84c3ab09f25c",
   "metadata": {},
   "outputs": [
    {
     "data": {
      "text/plain": [
       "784"
      ]
     },
     "execution_count": 36,
     "metadata": {},
     "output_type": "execute_result"
    }
   ],
   "source": [
    "28*28"
   ]
  },
  {
   "cell_type": "code",
   "execution_count": 95,
   "id": "9343e906-b1b8-4254-85fb-8a4c87e23fcc",
   "metadata": {},
   "outputs": [],
   "source": [
    "class VAE(eqx.Module):\n",
    "    encoder: eqx.nn.MLP\n",
    "    mu_head: eqx.nn.Linear\n",
    "    logvar_head: eqx.nn.Linear\n",
    "    decoder: eqx.nn.MLP\n",
    "    latent_dim: int\n",
    "\n",
    "    def __init__(self, key: jax.Array, input_dim: int = 28*28, latent_dim: int = 16, width: int = 256, depth: int = 2):\n",
    "        # input_dim -> width -> width (depth times) -> latent_dim -> \n",
    "        #  -> width -> width (depth times) -> input_dim\n",
    "        k1, k2, k3, k4 = jax.random.split(key, 4)\n",
    "        self.encoder = eqx.nn.MLP(in_size=input_dim, out_size=width, width_size=width, depth=depth, activation=jax.nn.gelu, key=k1)\n",
    "        self.mu_head = eqx.nn.Linear(width, latent_dim, use_bias=True, key=k2)\n",
    "        self.logvar_head = eqx.nn.Linear(width, latent_dim, use_bias=True, key=k3)\n",
    "        self.decoder = eqx.nn.MLP(in_size=latent_dim, out_size=input_dim, width_size=width, depth=depth, activation=jax.nn.gelu, key=k4)\n",
    "        self.latent_dim = latent_dim\n",
    "\n",
    "    def encode(self, x: Float[Array, \"B H W C\"]) -> Tuple[\n",
    "        Float[Array, \"B latent\"], Float[Array, \"B latent\"]]:\n",
    "        # B W H C -> (B Ldim, B Ldim)\n",
    "        h = self.encoder(flatten_images(x))\n",
    "        mu = self.mu_head(h)\n",
    "        logvar = self.logvar_head(h)\n",
    "        return mu, logvar\n",
    "\n",
    "    def sample_z(self, mu: Array, logvar: Array, key: Array) -> Array:\n",
    "        # reparameterization trick: z = mu + std * eps\n",
    "        eps = jax.random.normal(key, shape=mu.shape, dtype=mu.dtype)\n",
    "        std = jnp.exp(0.5 * logvar)\n",
    "        return mu + std * eps\n",
    "\n",
    "    def decode(self, z: Float[Array, \"B latent\"]) -> Float[Array, \"B (H W C)\"]:\n",
    "        return self.decode(z)\n",
    "\n",
    "    def __call__(self, x: Float[Array, \"B H W C\"], key: Array) -> Tuple[Float[Array, \"B (W H C)\"], Tuple[Array, Array, Array]]:\n",
    "        mu, logvar = self.encode(x)\n",
    "        key, key_z = jnp.random.split(key, 1)\n",
    "        z = self.sample_z(mu, logvar, key_z)\n",
    "        logits = self.decode(z)\n",
    "        return logits, (mu, logvar, z)"
   ]
  },
  {
   "cell_type": "code",
   "execution_count": 100,
   "id": "44bc8fd1-ec88-41aa-8e50-8c0134007d71",
   "metadata": {},
   "outputs": [],
   "source": [
    "SEED = 42\n",
    "key = jax.random.PRNGKey(SEED)\n",
    "model = VAE(key, latent_dim=8, width=128, depth=2)"
   ]
  },
  {
   "cell_type": "code",
   "execution_count": 101,
   "id": "12ad590d-eab7-4d22-981f-97949b1d9a53",
   "metadata": {},
   "outputs": [
    {
     "name": "stdout",
     "output_type": "stream",
     "text": [
      "encoder     :   133504 params\n",
      "mu_head     :     1032 params\n",
      "logvar_head :     1032 params\n",
      "decoder     :   118800 params\n",
      "TOTAL       :   254368 params\n"
     ]
    }
   ],
   "source": [
    "import jax\n",
    "import equinox as eqx\n",
    "\n",
    "def count_params(tree) -> int:\n",
    "    leaves = jax.tree_util.tree_leaves(eqx.filter(tree, eqx.is_inexact_array))\n",
    "    return sum(int(x.size) for x in leaves)\n",
    "\n",
    "def print_param_summary(model):\n",
    "    parts = {\n",
    "        \"encoder\": model.encoder,\n",
    "        \"mu_head\": model.mu_head,\n",
    "        \"logvar_head\": model.logvar_head,\n",
    "        \"decoder\": model.decoder,\n",
    "    }\n",
    "    for name, part in parts.items():\n",
    "        print(f\"{name:12s}: {count_params(part):8d} params\")\n",
    "    print(f\"{'TOTAL':12s}: {count_params(model):8d} params\")\n",
    "\n",
    "print_param_summary(model)\n"
   ]
  },
  {
   "cell_type": "code",
   "execution_count": 103,
   "id": "8700b88a-a0af-4783-983d-473255270932",
   "metadata": {},
   "outputs": [],
   "source": [
    "def bce_with_logits(logits: Array, targets: Array) -> Array:\n",
    "    # per-element BCE: max(l,0) - l*x + lop1p(exp(-|l|))\n",
    "    l = logits\n",
    "    x = targets\n",
    "    return jnp.maximum(l, 0.0) - l * x + jnp.log1p(jnp.exp(-jnp.abs(l)))"
   ]
  },
  {
   "cell_type": "code",
   "execution_count": 105,
   "id": "478b9627-cfae-4ef1-b892-0b740a56d56d",
   "metadata": {},
   "outputs": [],
   "source": [
    "def kl_standard_normal(mu: Array, logvar: Array) -> Array:\n",
    "    # KL[q(z|x) || p(z)] for diagonal Gaussians where p(z)=N(0,I), q has (mu, logvar)\n",
    "    return 0.5 * (jnp.exp(logvar) + jnp.square(mu) - 1.0 - logvar)"
   ]
  },
  {
   "cell_type": "code",
   "execution_count": null,
   "id": "37388f88-a0ec-4580-a2d1-6335533c65b7",
   "metadata": {},
   "outputs": [],
   "source": [
    "def elbo_loss(model, x: "
   ]
  }
 ],
 "metadata": {
  "kernelspec": {
   "display_name": "Python 3 (ipykernel)",
   "language": "python",
   "name": "python3"
  },
  "language_info": {
   "codemirror_mode": {
    "name": "ipython",
    "version": 3
   },
   "file_extension": ".py",
   "mimetype": "text/x-python",
   "name": "python",
   "nbconvert_exporter": "python",
   "pygments_lexer": "ipython3",
   "version": "3.12.4"
  }
 },
 "nbformat": 4,
 "nbformat_minor": 5
}
